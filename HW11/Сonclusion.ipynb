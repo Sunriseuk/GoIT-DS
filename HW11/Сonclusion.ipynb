{
 "cells": [
  {
   "cell_type": "markdown",
   "metadata": {},
   "source": [
    "# Результати випробувань:"
   ]
  },
  {
   "cell_type": "markdown",
   "metadata": {},
   "source": [
    "SimpleRNN:\n",
    "Test Loss: 0.43\n",
    "Test Accuracy: 0.84\n",
    "\n",
    "LSTM:\n",
    "Test Loss: 0.35\n",
    "Test Accuracy: 0.87\n",
    "\n",
    "BRNN:\n",
    "Test Loss: 0.37\n",
    "Test Accuracy: 0.87\n",
    "\n",
    "DeepBRNN:\n",
    "Test Loss: 0.37\n",
    "Test Accuracy: 0.86"
   ]
  },
  {
   "cell_type": "markdown",
   "metadata": {},
   "source": [
    "# Висновок:"
   ]
  },
  {
   "cell_type": "markdown",
   "metadata": {},
   "source": [
    "Всі використані рекурентні нейронні мережі показали досить високий та відносно рівний результат.\n",
    "З побудованих графіків було встановлено, що після 3-ї єпохи в усіх нейромережах відбувалося перенавчання. Тому навчання було обмежено трьома єпохами. \n",
    "Найменшу похибку та досить високу точність показала Long Short Term Memory нейронна мережа, яка має більше воріт(в порівнянні з GRU) і більшу гнучкість, що дозволяє їй відображати залежності в довгостроковій перспективі."
   ]
  }
 ],
 "metadata": {
  "language_info": {
   "name": "python"
  },
  "orig_nbformat": 4
 },
 "nbformat": 4,
 "nbformat_minor": 2
}
