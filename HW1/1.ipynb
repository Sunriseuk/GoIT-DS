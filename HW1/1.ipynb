{
 "cells": [
  {
   "cell_type": "code",
   "execution_count": 1,
   "metadata": {},
   "outputs": [],
   "source": [
    "import numpy as np"
   ]
  },
  {
   "attachments": {},
   "cell_type": "markdown",
   "metadata": {},
   "source": [
    "Створіть матрицю 3x3 та знайдіть визначник:"
   ]
  },
  {
   "cell_type": "code",
   "execution_count": 2,
   "metadata": {},
   "outputs": [
    {
     "name": "stdout",
     "output_type": "stream",
     "text": [
      "0.0\n"
     ]
    }
   ],
   "source": [
    "import numpy as np\n",
    "\n",
    "# створюємо матрицю\n",
    "a = np.array([[1, 2, 3], [4, 5, 6], [7, 8, 9]])\n",
    "\n",
    "# знаходимо визначник\n",
    "det_a = np.linalg.det(a)\n",
    "\n",
    "print(det_a) # 0.0\n",
    "\n",
    "#У цьому випадку визначник дорівнює 0, тому що матриця не має оберненої матриці (вона є виродженою)."
   ]
  },
  {
   "attachments": {},
   "cell_type": "markdown",
   "metadata": {},
   "source": [
    "Створіть два масиви однакового розміру та об'єднайте їх в один масив по стовпцях:\n",
    "\n",
    "Для цього можна використати функцію concatenate() з бібліотеки NumPy з аргументом axis=1."
   ]
  },
  {
   "cell_type": "code",
   "execution_count": 4,
   "metadata": {},
   "outputs": [
    {
     "name": "stdout",
     "output_type": "stream",
     "text": [
      "[[1 4]\n",
      " [2 5]\n",
      " [3 6]]\n"
     ]
    }
   ],
   "source": [
    "import numpy as np\n",
    "\n",
    "# створюємо два масиви\n",
    "a = np.array([1, 2, 3])\n",
    "b = np.array([4, 5, 6])\n",
    "\n",
    "# об'єднуємо їх по стовпцях\n",
    "c = np.concatenate((a.reshape(-1, 1), b.reshape(-1, 1)), axis=1)\n",
    "\n",
    "print(c)\n",
    "# [[1 4]\n",
    "#  [2 5]\n",
    "#  [3 6]]\n"
   ]
  },
  {
   "cell_type": "code",
   "execution_count": 7,
   "metadata": {},
   "outputs": [
    {
     "name": "stdout",
     "output_type": "stream",
     "text": [
      "[[ 1  2  7  8]\n",
      " [ 3  4  9 10]\n",
      " [ 5  6 11 12]]\n",
      "[[ 1  2  7  8]\n",
      " [ 3  4  9 10]\n",
      " [ 5  6 11 12]]\n"
     ]
    }
   ],
   "source": [
    "import numpy as np\n",
    "\n",
    "a = np.array([[1, 2], [3, 4], [5, 6]])\n",
    "b = np.array([[7, 8], [9, 10], [11, 12]])\n",
    "\n",
    "c = np.hstack((a, b))\n",
    "\n",
    "print(c)\n",
    "\n",
    "d = np.concatenate((a, b), axis=1)\n",
    "\n",
    "print(d)\n",
    "\n",
    "\n",
    "#Один зі способів - використати функцію hstack(). Наприклад, якщо ми маємо два масиви a і b розміром 3х2, то ми можемо їх об'єднати за допомогою наступного коду:"
   ]
  },
  {
   "attachments": {},
   "cell_type": "markdown",
   "metadata": {},
   "source": [
    "Створіть два масиви однакового розміру та об'єднайте їх в один масив по рядках:"
   ]
  },
  {
   "cell_type": "code",
   "execution_count": null,
   "metadata": {},
   "outputs": [],
   "source": [
    "import numpy as np\n",
    "\n",
    "# створюємо два масиви\n",
    "a = np.array([1, 2, 3])\n",
    "b = np.array([4, 5, 6])\n",
    "\n",
    "# об'єднуємо їх по рядках\n",
    "c = np.concatenate((a, b))\n",
    "\n",
    "print(c) # [1 2 3 4 5 6]\n"
   ]
  },
  {
   "attachments": {},
   "cell_type": "markdown",
   "metadata": {},
   "source": [
    "Створення масиву з 10 елементів та зміна значення кожного другого елемента на -1:"
   ]
  },
  {
   "cell_type": "code",
   "execution_count": null,
   "metadata": {},
   "outputs": [],
   "source": [
    "import numpy as np\n",
    "\n",
    "# Створення масиву з 10 елементів\n",
    "arr = np.array([1, 2, 3, 4, 5, 6, 7, 8, 9, 10])\n",
    "\n",
    "# Зміна значення кожного другого елемента на -1\n",
    "arr[1::2] = -1\n",
    "\n",
    "print(arr)\n"
   ]
  },
  {
   "attachments": {},
   "cell_type": "markdown",
   "metadata": {},
   "source": [
    "Створення масиву з 5 елементів та зміна кожного елемента на його квадрат:"
   ]
  },
  {
   "cell_type": "code",
   "execution_count": null,
   "metadata": {},
   "outputs": [],
   "source": [
    "import numpy as np\n",
    "\n",
    "# Створення масиву з 5 елементів\n",
    "arr = np.array([2, 4, 6, 8, 10])\n",
    "\n",
    "# Зміна кожного елемента масиву на його квадрат\n",
    "arr = np.square(arr)\n",
    "\n",
    "print(\"Масив:\", arr)\n"
   ]
  },
  {
   "attachments": {},
   "cell_type": "markdown",
   "metadata": {},
   "source": [
    "Створення масиву з 20 випадкових дробових чисел та знаходження стандартного відхилення:"
   ]
  },
  {
   "cell_type": "code",
   "execution_count": null,
   "metadata": {},
   "outputs": [],
   "source": [
    "import numpy as np\n",
    "\n",
    "# Створення масиву з 20 випадкових дробових чисел в діапазоні від 0 до 1\n",
    "arr = np.random.rand(20)\n",
    "\n",
    "# Знаходження стандартного відхилення масиву\n",
    "std_dev = np.std(arr)\n",
    "\n",
    "print(\"Масив:\", arr)\n",
    "print(\"Стандартне відхилення:\", std_dev)\n"
   ]
  },
  {
   "attachments": {},
   "cell_type": "markdown",
   "metadata": {},
   "source": [
    "Створення масиву з 10 випадкових цілих чисел та знаходження медіани:"
   ]
  },
  {
   "cell_type": "code",
   "execution_count": null,
   "metadata": {},
   "outputs": [],
   "source": [
    "import numpy as np\n",
    "\n",
    "# Створення масиву з 10 випадкових цілих чисел в діапазоні від 1 до 100\n",
    "arr = np.random.randint(1, 101, 10)\n",
    "\n",
    "# Знаходження медіани масиву\n",
    "median = np.median(arr)\n",
    "\n",
    "print(\"Масив:\", arr)\n",
    "print(\"Медіана:\", median)\n"
   ]
  },
  {
   "attachments": {},
   "cell_type": "markdown",
   "metadata": {},
   "source": [
    "Масив з 5 елементів, відсортований в порядку зростання та в порядку спадання:"
   ]
  },
  {
   "cell_type": "code",
   "execution_count": 8,
   "metadata": {},
   "outputs": [
    {
     "name": "stdout",
     "output_type": "stream",
     "text": [
      "Відсортований масив в порядку зростання:  [1 2 3 4 5]\n",
      "Відсортований масив в порядку спадання:  [5 4 3 2 1]\n"
     ]
    }
   ],
   "source": [
    "import numpy as np\n",
    "\n",
    "arr = np.array([5,2,4,1,3])\n",
    "\n",
    "sorted_arr_asc = np.sort(arr)\n",
    "sorted_arr_desc = np.sort(arr)[::-1]\n",
    "\n",
    "print(\"Відсортований масив в порядку зростання: \", sorted_arr_asc)\n",
    "print(\"Відсортований масив в порядку спадання: \", sorted_arr_desc)\n"
   ]
  },
  {
   "attachments": {},
   "cell_type": "markdown",
   "metadata": {},
   "source": [
    "Функція, яка бере на вхід масив та повертає середнє арифметичне значення його елементів:"
   ]
  },
  {
   "cell_type": "code",
   "execution_count": null,
   "metadata": {},
   "outputs": [],
   "source": [
    "import numpy as np\n",
    "\n",
    "def mean(arr):\n",
    "    return np.mean(arr)\n",
    "\n",
    "arr = np.array([1,2,3,4,5])\n",
    "\n",
    "mean_val = mean(arr)\n",
    "\n",
    "print(\"Середнє значення: \", mean_val)\n"
   ]
  },
  {
   "attachments": {},
   "cell_type": "markdown",
   "metadata": {},
   "source": [
    "Функція, яка бере на вхід два масиви та повертає їхній скалярний добуток:"
   ]
  },
  {
   "cell_type": "code",
   "execution_count": null,
   "metadata": {},
   "outputs": [],
   "source": [
    "import numpy as np\n",
    "\n",
    "def dot_product(arr1, arr2):\n",
    "    return np.dot(arr1, arr2)\n",
    "\n",
    "arr1 = np.array([1,2,3])\n",
    "arr2 = np.array([4,5,6])\n",
    "\n",
    "dot = dot_product(arr1, arr2)\n",
    "\n",
    "print(\"Скалярний добуток: \", dot)\n"
   ]
  },
  {
   "attachments": {},
   "cell_type": "markdown",
   "metadata": {},
   "source": [
    "Функція, яка бере на вхід масив та повертає максимальне та мінімальне значення в цьому масиві:"
   ]
  },
  {
   "cell_type": "code",
   "execution_count": 9,
   "metadata": {},
   "outputs": [
    {
     "name": "stdout",
     "output_type": "stream",
     "text": [
      "Максимальне значення:  5\n",
      "Мінімальне значення:  1\n"
     ]
    }
   ],
   "source": [
    "import numpy as np\n",
    "\n",
    "def max_min(arr):\n",
    "    return np.max(arr), np.min(arr)\n",
    "\n",
    "arr = np.array([1,2,3,4,5])\n",
    "\n",
    "max_val, min_val = max_min(arr)\n",
    "\n",
    "print(\"Максимальне значення: \", max_val)\n",
    "print(\"Мінімальне значення: \", min_val)\n"
   ]
  },
  {
   "attachments": {},
   "cell_type": "markdown",
   "metadata": {},
   "source": [
    "Створення матриці 3x3 з випадковими дробовими числами в діапазоні від 0 до 1:"
   ]
  },
  {
   "cell_type": "code",
   "execution_count": null,
   "metadata": {},
   "outputs": [],
   "source": [
    "import numpy as np\n",
    "\n",
    "matrix = np.random.rand(3,3)\n",
    "\n",
    "print(matrix)\n"
   ]
  },
  {
   "attachments": {},
   "cell_type": "markdown",
   "metadata": {},
   "source": [
    "Створення матриці 3x3 з випадковими цілими числами в діапазоні від 1 до 10:"
   ]
  },
  {
   "cell_type": "code",
   "execution_count": null,
   "metadata": {},
   "outputs": [],
   "source": [
    "import numpy as np\n",
    "\n",
    "matrix = np.random.randint(1, 10, size=(3,3))\n",
    "\n",
    "print(matrix)\n"
   ]
  },
  {
   "attachments": {},
   "cell_type": "markdown",
   "metadata": {},
   "source": [
    "Створення NumPy масиву з 10 елементів, заповненого нулями та зміна першого елемента на 1:"
   ]
  },
  {
   "cell_type": "code",
   "execution_count": null,
   "metadata": {},
   "outputs": [],
   "source": [
    "import numpy as np\n",
    "\n",
    "arr = np.zeros(10)\n",
    "arr[0] = 1\n",
    "\n",
    "print(arr)\n"
   ]
  },
  {
   "attachments": {},
   "cell_type": "markdown",
   "metadata": {},
   "source": [
    "Створіть вектор довільної довжини та замініть всі його негативні значення на 0."
   ]
  },
  {
   "cell_type": "code",
   "execution_count": null,
   "metadata": {},
   "outputs": [],
   "source": [
    "import numpy as np\n",
    "\n",
    "# Створення вектора довільної довжини\n",
    "vector = np.array([1, -2, 3, -4, 5, -6, 7, -8, 9])\n",
    "\n",
    "# Заміна негативних значень на 0\n",
    "vector[vector < 0] = 0\n",
    "\n",
    "print(vector)\n"
   ]
  },
  {
   "attachments": {},
   "cell_type": "markdown",
   "metadata": {},
   "source": [
    "Створіть матрицю розміром 4x4, заповніть її випадковими цілими числами в діапазоні від -5 до 5 та знайдіть ранг матриці."
   ]
  },
  {
   "cell_type": "code",
   "execution_count": 10,
   "metadata": {},
   "outputs": [
    {
     "name": "stdout",
     "output_type": "stream",
     "text": [
      "[[-1  4 -2 -5]\n",
      " [-3  0  5 -4]\n",
      " [-5 -4  5  2]\n",
      " [ 5 -1  0  5]]\n",
      "Ранг матриці:  4\n"
     ]
    }
   ],
   "source": [
    "import numpy as np\n",
    "\n",
    "# Створення матриці розміром 4x4 з випадковими цілими числами в діапазоні від -5 до 5\n",
    "matrix = np.random.randint(-5, 6, size=(4, 4))\n",
    "\n",
    "# Знаходження рангу матриці\n",
    "rank = np.linalg.matrix_rank(matrix)\n",
    "\n",
    "print(matrix)\n",
    "print(\"Ранг матриці: \", rank)\n"
   ]
  },
  {
   "attachments": {},
   "cell_type": "markdown",
   "metadata": {},
   "source": [
    "Створіть два вектори однакової довжини та знайдіть косинусний кут між ними."
   ]
  },
  {
   "cell_type": "code",
   "execution_count": 11,
   "metadata": {},
   "outputs": [
    {
     "name": "stdout",
     "output_type": "stream",
     "text": [
      "Косинусний кут між векторами:  0.9746318461970762\n",
      "Кут між векторами в градусах:  12.933154491899135\n"
     ]
    }
   ],
   "source": [
    "import numpy as np\n",
    "\n",
    "# Створення двох векторів однакової довжини\n",
    "vector1 = np.array([1, 2, 3])\n",
    "vector2 = np.array([4, 5, 6])\n",
    "\n",
    "# Знаходження косинусного кута між векторами\n",
    "cosine_angle = np.dot(vector1, vector2) / (np.linalg.norm(vector1) * np.linalg.norm(vector2))\n",
    "angle_in_degrees = np.arccos(cosine_angle) * 180 / np.pi\n",
    "\n",
    "print(\"Косинусний кут між векторами: \", cosine_angle)\n",
    "print(\"Кут між векторами в градусах: \", angle_in_degrees)\n"
   ]
  },
  {
   "attachments": {},
   "cell_type": "markdown",
   "metadata": {},
   "source": [
    "Створіть матрицю розміром 5x5, заповніть її випадковими дійсними числами в діапазоні від -1 до 1 та обчисліть визначник матриці."
   ]
  },
  {
   "cell_type": "code",
   "execution_count": 12,
   "metadata": {},
   "outputs": [
    {
     "name": "stdout",
     "output_type": "stream",
     "text": [
      "[[ 0.4289064   0.86159107 -0.98047772 -0.64349586 -0.26503284]\n",
      " [ 0.8476253   0.17193222 -0.09425275  0.79388439  0.27127396]\n",
      " [ 0.6237608  -0.74943075 -0.48338362  0.62382807  0.4313464 ]\n",
      " [-0.87602238  0.74002324  0.02087769 -0.15640416  0.77297594]\n",
      " [ 0.48727722  0.83141919 -0.2976064  -0.1167621   0.20356341]]\n",
      "Визначник матриці:  0.45979161028817306\n"
     ]
    }
   ],
   "source": [
    "import numpy as np\n",
    "\n",
    "# Створення матриці розміром 5x5 з випадковими дійсними числами в діапазоні від -1 до 1\n",
    "matrix = np.random.uniform(-1, 1, size=(5, 5))\n",
    "\n",
    "# Обчислення визначника матриці\n",
    "determinant = np.linalg.det(matrix)\n",
    "\n",
    "print(matrix)\n",
    "print(\"Визначник матриці: \", determinant)\n"
   ]
  },
  {
   "attachments": {},
   "cell_type": "markdown",
   "metadata": {},
   "source": [
    "Створіть вектор довільної довжини та знайдіть середнє значення елементів, які перевищують задане порогове значення."
   ]
  },
  {
   "cell_type": "code",
   "execution_count": null,
   "metadata": {},
   "outputs": [],
   "source": [
    "import numpy as np\n",
    "\n",
    "# Створення вектора з 10 випадкових чисел в діапазоні від 1 до 100\n",
    "vec = np.random.randint(1, 101, size=10)\n",
    "\n",
    "# Задання порогового значення\n",
    "threshold = 50\n",
    "\n",
    "# Знаходження елементів, які перевищують порогове значення\n",
    "above_threshold = vec[vec > threshold]\n",
    "\n",
    "# Знаходження середнього значення елементів, які перевищують порогове значення\n",
    "mean_above_threshold = np.mean(above_threshold)\n",
    "\n",
    "print(f\"Вектор: {vec}\")\n",
    "print(f\"Порогове значення: {threshold}\")\n",
    "print(f\"Елементи, які перевищують порогове значення: {above_threshold}\")\n",
    "print(f\"Середнє значення елементів, які перевищують порогове значення: {mean_above_threshold}\")\n"
   ]
  },
  {
   "attachments": {},
   "cell_type": "markdown",
   "metadata": {},
   "source": [
    "Створіть матрицю розміром 3x3 та вектор розміром 3, заповніть їх випадковими дійсними числами в діапазоні від 0 до 1 та розв'яжіть систему лінійних рівнянь Ax=b, де A - матриця, x - вектор невідомих, b - вектор вільних членів."
   ]
  },
  {
   "cell_type": "code",
   "execution_count": 13,
   "metadata": {},
   "outputs": [
    {
     "name": "stdout",
     "output_type": "stream",
     "text": [
      "A = \n",
      "[[0.75280953 0.14384081 0.39066931]\n",
      " [0.61996074 0.36869819 0.10009635]\n",
      " [0.13110424 0.14601349 0.9562345 ]]\n",
      "b = \n",
      "[0.32221829 0.34153972 0.52788903]\n",
      "x = \n",
      "[0.06912688 0.69146775 0.43698757]\n"
     ]
    }
   ],
   "source": [
    "import numpy as np\n",
    "\n",
    "A = np.random.rand(3,3)\n",
    "b = np.random.rand(3)\n",
    "\n",
    "x = np.linalg.solve(A, b)\n",
    "\n",
    "print(\"A = \")\n",
    "print(A)\n",
    "print(\"b = \")\n",
    "print(b)\n",
    "print(\"x = \")\n",
    "print(x)\n"
   ]
  },
  {
   "attachments": {},
   "cell_type": "markdown",
   "metadata": {},
   "source": [
    "Створіть дві матриці розміром 4x4, заповніть їх випадковими цілими числами в діапазоні від 1 до 10 та знайдіть їх відношення.\n",
    "(Для знаходження відношення двох матриць необхідно поділити їх елементи один на одного. Проте, для цього необхідно, щоб розміри матриць були однаковими. Отже, спочатку створимо дві матриці розміром 4x4 з випадковими цілими числами в діапазоні від 1 до 10 за допомогою модулю NumPy:)"
   ]
  },
  {
   "cell_type": "code",
   "execution_count": 14,
   "metadata": {},
   "outputs": [
    {
     "name": "stdout",
     "output_type": "stream",
     "text": [
      "Matrix 1:\n",
      " [[9 3 6 4]\n",
      " [6 3 4 8]\n",
      " [5 2 4 6]\n",
      " [5 5 6 7]]\n",
      "Matrix 2:\n",
      " [[5 7 6 4]\n",
      " [3 9 7 6]\n",
      " [1 3 4 2]\n",
      " [3 4 6 6]]\n",
      "Ratio:\n",
      " [[1.8        0.42857143 1.         1.        ]\n",
      " [2.         0.33333333 0.57142857 1.33333333]\n",
      " [5.         0.66666667 1.         3.        ]\n",
      " [1.66666667 1.25       1.         1.16666667]]\n"
     ]
    }
   ],
   "source": [
    "import numpy as np\n",
    "\n",
    "# Створення двох матриць розміром 4x4 з випадковими цілими числами від 1 до 10\n",
    "matrix1 = np.random.randint(1, 10, (4, 4))\n",
    "matrix2 = np.random.randint(1, 10, (4, 4))\n",
    "\n",
    "print(\"Matrix 1:\\n\", matrix1)\n",
    "print(\"Matrix 2:\\n\", matrix2)\n",
    "\n",
    "# Знаходження відношення двох матриць\n",
    "ratio = matrix1 / matrix2\n",
    "\n",
    "print(\"Ratio:\\n\", ratio)\n",
    "\n"
   ]
  },
  {
   "attachments": {},
   "cell_type": "markdown",
   "metadata": {},
   "source": [
    "Це значить, що елемент у першому рядку та першому стовпці матриці ratio є результатом ділення елементу у першому рядку та першому стовпці матриці matrix1 на елемент у першому рядку та першому стовпці матриці matrix2. Аналогічно для всіх інших елементів."
   ]
  },
  {
   "attachments": {},
   "cell_type": "markdown",
   "metadata": {},
   "source": [
    "Створіть матрицю розміром 3x3 та замініть всі її елементи, що менші за середнє значення елементів матриці, на 0."
   ]
  },
  {
   "cell_type": "code",
   "execution_count": 21,
   "metadata": {},
   "outputs": [
    {
     "name": "stdout",
     "output_type": "stream",
     "text": [
      "[[0.28080729 0.42382192 0.64083804]\n",
      " [0.42274322 0.28035477 0.83162474]\n",
      " [0.95940803 0.12768783 0.08647566]]\n",
      "Середнє значення = 0.4504179433197286\n",
      "[[0.         0.         0.64083804]\n",
      " [0.         0.         0.83162474]\n",
      " [0.95940803 0.         0.        ]]\n"
     ]
    }
   ],
   "source": [
    "import numpy as np\n",
    "\n",
    "# Створення матриці 3x3 з випадковими дійсними числами в діапазоні від 0 до 1\n",
    "A = np.random.rand(3, 3)\n",
    "print(A)\n",
    "\n",
    "# Знаходження середнього значення елементів матриці\n",
    "mean = np.mean(A)\n",
    "print(f\"Середнє значення = {mean}\")\n",
    "\n",
    "# Заміна елементів, що менші за середнє значення, на 0\n",
    "A[A < mean] = 0\n",
    "\n",
    "print(A)\n",
    "\n"
   ]
  },
  {
   "attachments": {},
   "cell_type": "markdown",
   "metadata": {},
   "source": [
    "Створіть дві матриці розміром 2x2 та 2x3, заповніть їх випадковими цілими числами в діапазоні від 1 до 10 та обчисліть векторний добуток між ними."
   ]
  },
  {
   "cell_type": "code",
   "execution_count": 25,
   "metadata": {},
   "outputs": [
    {
     "name": "stdout",
     "output_type": "stream",
     "text": [
      "[[84 46 48]\n",
      " [79 26 41]]\n"
     ]
    }
   ],
   "source": [
    "import numpy as np\n",
    "\n",
    "# Створення матриць 2x2 та 2x3 з випадковими цілими числами в діапазоні від 1 до 10\n",
    "b = np.random.randint(1, 10, size=(2, 2))\n",
    "c = np.random.randint(1, 10, size=(2, 3))\n",
    "\n",
    "# Обчислення векторного добутку\n",
    "d = np.dot(b, c)\n",
    "\n",
    "print(d)\n"
   ]
  },
  {
   "attachments": {},
   "cell_type": "markdown",
   "metadata": {},
   "source": [
    "Створіть вектор довільної довжини та знайдіть його норму (довжину)."
   ]
  },
  {
   "cell_type": "code",
   "execution_count": 26,
   "metadata": {},
   "outputs": [
    {
     "name": "stdout",
     "output_type": "stream",
     "text": [
      "1.651384637308463\n"
     ]
    }
   ],
   "source": [
    "import numpy as np\n",
    "\n",
    "# Створення вектора довільної довжини з випадковими дійсними числами в діапазоні від 0 до 1\n",
    "v = np.random.rand(5)\n",
    "\n",
    "# Знаходження норми (довжини) вектора\n",
    "norm = np.linalg.norm(v)\n",
    "\n",
    "print(norm)\n"
   ]
  },
  {
   "attachments": {},
   "cell_type": "markdown",
   "metadata": {},
   "source": [
    "_____________________________________________________________________________________"
   ]
  },
  {
   "cell_type": "markdown",
   "metadata": {},
   "source": []
  },
  {
   "cell_type": "markdown",
   "metadata": {},
   "source": [
    "Домашнє завдання №1"
   ]
  },
  {
   "cell_type": "code",
   "execution_count": null,
   "metadata": {},
   "outputs": [],
   "source": [
    "import numpy as np"
   ]
  },
  {
   "cell_type": "markdown",
   "metadata": {},
   "source": [
    "1. Створіть одновимірний масив (вектор) з першими 10-ма натуральними числами та виведіть його значення."
   ]
  },
  {
   "cell_type": "code",
   "execution_count": null,
   "metadata": {},
   "outputs": [
    {
     "name": "stdout",
     "output_type": "stream",
     "text": [
      "[ 1  2  3  4  5  6  7  8  9 10]\n"
     ]
    }
   ],
   "source": [
    "a = np.arange(1, 11)\n",
    "print(a)"
   ]
  },
  {
   "cell_type": "markdown",
   "metadata": {},
   "source": [
    "2. Створіть двовимірний масив (матрицю) розміром 3x3, заповніть його нулями та виведіть його значення."
   ]
  },
  {
   "cell_type": "code",
   "execution_count": null,
   "metadata": {},
   "outputs": [
    {
     "name": "stdout",
     "output_type": "stream",
     "text": [
      "[[0. 0. 0.]\n",
      " [0. 0. 0.]\n",
      " [0. 0. 0.]]\n"
     ]
    }
   ],
   "source": [
    "a = np.zeros((3, 3))\n",
    "print(a)"
   ]
  },
  {
   "cell_type": "markdown",
   "metadata": {},
   "source": [
    "3. Створіть масив розміром 5x5, заповніть його випадковими цілими числами в діапазоні від 1 до 10 та виведіть його значення."
   ]
  },
  {
   "cell_type": "code",
   "execution_count": null,
   "metadata": {},
   "outputs": [
    {
     "name": "stdout",
     "output_type": "stream",
     "text": [
      "[[ 7 10  6  2 10]\n",
      " [ 7  9  4  2  8]\n",
      " [ 3  3  6  5  9]\n",
      " [10  8  3  5  1]\n",
      " [ 3  3  9  1  5]]\n"
     ]
    }
   ],
   "source": [
    "a = np.random.randint(1, 11, (5,5))\n",
    "print(a)"
   ]
  },
  {
   "cell_type": "markdown",
   "metadata": {},
   "source": [
    "4. Створіть масив розміром 4x4, заповніть його випадковими дійсними числами в діапазоні від 0 до 1 та виведіть його значення."
   ]
  },
  {
   "cell_type": "code",
   "execution_count": null,
   "metadata": {},
   "outputs": [
    {
     "name": "stdout",
     "output_type": "stream",
     "text": [
      "[[0.35448893 0.62348182 0.25158109 0.20567579]\n",
      " [0.51100877 0.36949712 0.22480539 0.86426348]\n",
      " [0.67691192 0.03815413 0.42832246 0.20885283]\n",
      " [0.48009991 0.53849911 0.56553487 0.62994907]]\n"
     ]
    }
   ],
   "source": [
    "a = np.random.rand(4, 4)\n",
    "print(a)"
   ]
  },
  {
   "cell_type": "markdown",
   "metadata": {},
   "source": [
    "5. Створіть два одновимірних масиви розміром 5, заповніть їх випадковими цілими числами в діапазоні від 1 до 10 та виконайте на них поелементні операції додавання, віднімання та множення."
   ]
  },
  {
   "cell_type": "code",
   "execution_count": null,
   "metadata": {},
   "outputs": [
    {
     "name": "stdout",
     "output_type": "stream",
     "text": [
      "a =  [6 2 2 9 6]\n",
      "b =  [8 4 9 5 8]\n",
      "a + b =  [14  6 11 14 14]\n",
      "a - b =  [-2 -2 -7  4 -2]\n",
      "a * b =  [48  8 18 45 48]\n"
     ]
    }
   ],
   "source": [
    "a = np.random.randint(1, 11, size=5)\n",
    "b = np.random.randint(1, 11, size=5)\n",
    "\n",
    "print(\"a = \", a)\n",
    "print(\"b = \", b)\n",
    "\n",
    "print(\"a + b = \", a + b)\n",
    "print(\"a - b = \", a - b)\n",
    "print(\"a * b = \", a * b)"
   ]
  },
  {
   "cell_type": "markdown",
   "metadata": {},
   "source": [
    "6. Створіть два вектори розміром 7, заповніть довільними числами та знайдіть їх скалярний добуток."
   ]
  },
  {
   "cell_type": "code",
   "execution_count": null,
   "metadata": {},
   "outputs": [
    {
     "name": "stdout",
     "output_type": "stream",
     "text": [
      "a =  [6 6 6 9 4 1 8]\n",
      "b =  [ 3 10  9  3  5  2  9]\n",
      "Скалярний добуток векторів дорівнює: 253\n"
     ]
    }
   ],
   "source": [
    "a = np.random.randint(1, 11, size=7)\n",
    "b = np.random.randint(1, 11, size=7)\n",
    "\n",
    "dot_a_b = np.dot(a, b)\n",
    "\n",
    "print(\"a = \", a)\n",
    "print(\"b = \", b)\n",
    "print(\"Скалярний добуток векторів дорівнює:\", dot_a_b)"
   ]
  },
  {
   "cell_type": "markdown",
   "metadata": {},
   "source": [
    "7. Створіть дві матриці розміром 2x2 та 2x3, заповніть їх випадковими цілими числами в діапазоні від 1 до 10 та перемножте їх між собою."
   ]
  },
  {
   "cell_type": "code",
   "execution_count": null,
   "metadata": {},
   "outputs": [
    {
     "name": "stdout",
     "output_type": "stream",
     "text": [
      "a =  [[7 1]\n",
      " [3 5]]\n",
      "b =  [[3 1 1]\n",
      " [1 2 1]]\n",
      "Результат множення матриць:\n",
      "[[22  9  8]\n",
      " [14 13  8]]\n"
     ]
    }
   ],
   "source": [
    "a = np.random.randint(1, 10, size=(2, 2))\n",
    "b = np.random.randint(1, 10, size=(2, 3))\n",
    "\n",
    "dot_a_b = np.dot(a, b)\n",
    "\n",
    "print(\"a = \", a)\n",
    "print(\"b = \", b)\n",
    "print(\"Результат множення матриць:\")\n",
    "print(dot_a_b)"
   ]
  },
  {
   "cell_type": "markdown",
   "metadata": {},
   "source": [
    "8. Створіть матрицю розміром 3x3, заповніть її випадковими цілими числами в діапазоні від 1 до 10 та знайдіть її обернену матрицю. (Обернена матриця існує тільки для квадратних матриць, для яких детермінант не дорівнює нулю)"
   ]
  },
  {
   "cell_type": "code",
   "execution_count": null,
   "metadata": {},
   "outputs": [
    {
     "name": "stdout",
     "output_type": "stream",
     "text": [
      "Вихідна матриця:\n",
      "[[3 1 3]\n",
      " [5 8 7]\n",
      " [6 4 1]]\n",
      "Обернена матриця:\n",
      "[[ 0.18691589 -0.10280374  0.1588785 ]\n",
      " [-0.34579439  0.14018692  0.05607477]\n",
      " [ 0.26168224  0.05607477 -0.17757009]]\n"
     ]
    }
   ],
   "source": [
    "a = np.random.randint(1, 11, size=(3, 3))\n",
    "print(\"Вихідна матриця:\")\n",
    "print(a)\n",
    "\n",
    "# перевірка, чи можна знайти обернену матрицю\n",
    "if np.linalg.det(a) == 0:\n",
    "    print(\"Матриця не має оберненої матриці.\")\n",
    "else:\n",
    "    # знаходження оберненої матриці\n",
    "    inv_a = np.linalg.inv(a)\n",
    "    print(\"Обернена матриця:\")\n",
    "    print(inv_a)\n"
   ]
  },
  {
   "cell_type": "markdown",
   "metadata": {},
   "source": [
    "9. Створіть матрицю розміром 4x4, заповніть її випадковими дійсними числами в діапазоні від 0 до 1 та транспонуйте її."
   ]
  },
  {
   "cell_type": "code",
   "execution_count": null,
   "metadata": {},
   "outputs": [
    {
     "name": "stdout",
     "output_type": "stream",
     "text": [
      "[[0.87298873 0.32313631 0.84631268 0.70152019]\n",
      " [0.92968705 0.08546864 0.14092307 0.76525695]\n",
      " [0.12001872 0.22090021 0.28490696 0.32351804]\n",
      " [0.68992537 0.84135905 0.93096108 0.28223114]]\n",
      "Транспонована матриця:\n",
      "[[0.87298873 0.92968705 0.12001872 0.68992537]\n",
      " [0.32313631 0.08546864 0.22090021 0.84135905]\n",
      " [0.84631268 0.14092307 0.28490696 0.93096108]\n",
      " [0.70152019 0.76525695 0.32351804 0.28223114]]\n"
     ]
    }
   ],
   "source": [
    "a = np.random.rand(4, 4)\n",
    "print(a)\n",
    "\n",
    "a_transp = np.transpose(a)\n",
    "print(\"Транспонована матриця:\")\n",
    "print(a_transp)"
   ]
  },
  {
   "cell_type": "markdown",
   "metadata": {},
   "source": [
    "10. Створіть матрицю розміром 3x4 та вектор розміром 4, заповніть їх випадковими цілими числами в діапазоні від 1 до 10 та перемножте матрицю на вектор."
   ]
  },
  {
   "cell_type": "code",
   "execution_count": null,
   "metadata": {},
   "outputs": [
    {
     "name": "stdout",
     "output_type": "stream",
     "text": [
      "Матриця:\n",
      "[[8 3 7 6]\n",
      " [9 8 8 7]\n",
      " [9 7 3 6]]\n",
      "Вектор:\n",
      "[9 2 3 3]\n",
      "Результат множення матриці на вектор:\n",
      "[117 142 122]\n"
     ]
    }
   ],
   "source": [
    "matr = np.random.randint(1, 10, size=(3, 4))\n",
    "vect = np.random.randint(1, 10, size=4)\n",
    "print(\"Матриця:\")\n",
    "print(matr)\n",
    "print(\"Вектор:\")\n",
    "print(vect)\n",
    "\n",
    "print(\"Результат множення матриці на вектор:\")\n",
    "result = np.dot(matr, vect)\n",
    "print(result)"
   ]
  },
  {
   "cell_type": "markdown",
   "metadata": {},
   "source": [
    "11. Створіть матрицю розміром 2x3 та вектор розміром 3, заповніть їх випадковими дійсними числами в діапазоні від 0 до 1 та перемножте матрицю на вектор."
   ]
  },
  {
   "cell_type": "code",
   "execution_count": null,
   "metadata": {},
   "outputs": [
    {
     "name": "stdout",
     "output_type": "stream",
     "text": [
      "Матриця:\n",
      "[[0.69817495 0.66957257 0.0633264 ]\n",
      " [0.94132088 0.70192663 0.98405776]]\n",
      "Вектор:\n",
      "[0.97630631 0.55499514 0.06980454]\n",
      "Результат множення матриці на вектор:\n",
      "[1.0576626  1.37727509]\n"
     ]
    }
   ],
   "source": [
    "matr = np.random.rand(2, 3)\n",
    "vect = np.random.rand(3)\n",
    "print(\"Матриця:\")\n",
    "print(matr)\n",
    "print(\"Вектор:\")\n",
    "print(vect)\n",
    "\n",
    "print(\"Результат множення матриці на вектор:\")\n",
    "result = np.dot(matr, vect)\n",
    "print(result)"
   ]
  },
  {
   "cell_type": "markdown",
   "metadata": {},
   "source": [
    "12. Створіть дві матриці розміром 2x2, заповніть їх випадковими цілими числами в діапазоні від 1 до 10 та виконайте їхнє поелементне множення."
   ]
  },
  {
   "cell_type": "code",
   "execution_count": null,
   "metadata": {},
   "outputs": [
    {
     "name": "stdout",
     "output_type": "stream",
     "text": [
      "Перша матриця:\n",
      "[[5 4]\n",
      " [1 6]]\n",
      "Друга матриця:\n",
      "[[6 4]\n",
      " [1 8]]\n",
      "Поелементне множення через multiply:\n",
      "[[30 16]\n",
      " [ 1 48]]\n",
      "Поелементне множення через *:\n",
      "[[30 16]\n",
      " [ 1 48]]\n"
     ]
    }
   ],
   "source": [
    "a = np.random.randint(1, 11, size=(2, 2))\n",
    "b = np.random.randint(1, 11, size=(2, 2))\n",
    "print(\"Перша матриця:\")\n",
    "print(a)\n",
    "print(\"Друга матриця:\")\n",
    "print(b)\n",
    "\n",
    "print(\"Поелементне множення через multiply:\")\n",
    "result = np.multiply(a, b)\n",
    "print(result)\n",
    "print(\"Поелементне множення через *:\")\n",
    "print(a*b)"
   ]
  },
  {
   "cell_type": "markdown",
   "metadata": {},
   "source": [
    "13. Створіть дві матриці розміром 2x2, заповніть їх випадковими цілими числами в діапазоні від 1 до 10 та знайдіть їх добуток."
   ]
  },
  {
   "cell_type": "code",
   "execution_count": null,
   "metadata": {},
   "outputs": [
    {
     "name": "stdout",
     "output_type": "stream",
     "text": [
      "Перша матриця:\n",
      "[[5 8]\n",
      " [1 5]]\n",
      "Друга матриця:\n",
      "[[10  4]\n",
      " [ 6 10]]\n",
      "Добуток матриць:\n",
      "[[ 98 100]\n",
      " [ 40  54]]\n"
     ]
    }
   ],
   "source": [
    "a = np.random.randint(1, 11, size=(2, 2))\n",
    "b = np.random.randint(1, 11, size=(2, 2))\n",
    "print(\"Перша матриця:\")\n",
    "print(a)\n",
    "print(\"Друга матриця:\")\n",
    "print(b)\n",
    "\n",
    "print(\"Добуток матриць:\")\n",
    "result = np.dot(a, b)\n",
    "print(result)"
   ]
  },
  {
   "cell_type": "markdown",
   "metadata": {},
   "source": [
    "14. Створіть матрицю розміром 5x5, заповніть її випадковими цілими числами в діапазоні від 1 до 100 та знайдіть суму елементів матриці."
   ]
  },
  {
   "cell_type": "code",
   "execution_count": null,
   "metadata": {},
   "outputs": [
    {
     "name": "stdout",
     "output_type": "stream",
     "text": [
      "Матриця\n",
      "[[33 35 46 98  3]\n",
      " [35 26 67 92 30]\n",
      " [15 56 56 68 26]\n",
      " [64 95 21  6  2]\n",
      " [66 13 91  9 42]]\n",
      "Сума елементів матриці:\n",
      "1095\n"
     ]
    }
   ],
   "source": [
    "a = np.random.randint(1, 101, size=(5, 5))\n",
    "sum_a = np.sum(a)\n",
    "print(\"Матриця\")\n",
    "print(a)\n",
    "print(\"Сума елементів матриці:\")\n",
    "print(sum_a)"
   ]
  },
  {
   "cell_type": "markdown",
   "metadata": {},
   "source": [
    "15. Створіть дві матриці розміром 4x4, заповніть їх випадковими цілими числами в діапазоні від 1 до 10 та знайдіть їхню різницю."
   ]
  },
  {
   "cell_type": "code",
   "execution_count": null,
   "metadata": {},
   "outputs": [
    {
     "name": "stdout",
     "output_type": "stream",
     "text": [
      "Перша матриця:\n",
      "[[ 5  3  5  7]\n",
      " [ 9  5  3  2]\n",
      " [ 1  7  6  6]\n",
      " [ 6  9 10  9]]\n",
      "Друга матриця:\n",
      "[[ 6  2 10  3]\n",
      " [ 9  4  7  3]\n",
      " [ 7  1  7  6]\n",
      " [ 2  9  8  5]]\n",
      "Різниця матриць:\n",
      "[[-1  1 -5  4]\n",
      " [ 0  1 -4 -1]\n",
      " [-6  6 -1  0]\n",
      " [ 4  0  2  4]]\n"
     ]
    }
   ],
   "source": [
    "a = np.random.randint(1, 11, size=(4, 4))\n",
    "b = np.random.randint(1, 11, size=(4, 4))\n",
    "print(\"Перша матриця:\")\n",
    "print(a)\n",
    "print(\"Друга матриця:\")\n",
    "print(b)\n",
    "\n",
    "result = a - b\n",
    "print(\"Різниця матриць:\")\n",
    "print(result)"
   ]
  },
  {
   "cell_type": "markdown",
   "metadata": {},
   "source": [
    "16. Створіть матрицю розміром 3x3, заповніть її випадковими дійсними числами в діапазоні від 0 до 1 та знайдіть вектор-стовпчик, що містить суму елементів кожного рядка матриці."
   ]
  },
  {
   "cell_type": "code",
   "execution_count": null,
   "metadata": {},
   "outputs": [
    {
     "name": "stdout",
     "output_type": "stream",
     "text": [
      "Матриця:\n",
      "[[0.93691243 0.87759296 0.8300773 ]\n",
      " [0.10116688 0.39740299 0.30359529]\n",
      " [0.44538679 0.20820476 0.64165348]]\n",
      "Вектор-стовпчик з сумами елементів кожного рядка:\n",
      "[[2.64458269]\n",
      " [0.80216515]\n",
      " [1.29524503]]\n"
     ]
    }
   ],
   "source": [
    "a = np.random.rand(3, 3)\n",
    "print(\"Матриця:\")\n",
    "print(a)\n",
    "\n",
    "# Обчислення сум елементів кожного рядка матриці\n",
    "row_sums = a.sum(axis=1)\n",
    "\n",
    "# Перетворення одновимірного масиву на вектор-стовпчик\n",
    "col_vec = row_sums.reshape((-1, 1))\n",
    "\n",
    "print(\"Вектор-стовпчик з сумами елементів кожного рядка:\")\n",
    "print(col_vec)"
   ]
  },
  {
   "cell_type": "markdown",
   "metadata": {},
   "source": [
    "17. Створіть матрицю розміром 3x4 з довільними цілими числами і створінь матрицю з квадратами цих чисел. "
   ]
  },
  {
   "cell_type": "code",
   "execution_count": null,
   "metadata": {},
   "outputs": [
    {
     "name": "stdout",
     "output_type": "stream",
     "text": [
      "Матриця:\n",
      "[[ 2  3  9 10]\n",
      " [ 8  4  9  7]\n",
      " [ 6  8  8  9]]\n",
      "Квадрати значень матриці:\n",
      "[[  4   9  81 100]\n",
      " [ 64  16  81  49]\n",
      " [ 36  64  64  81]]\n"
     ]
    }
   ],
   "source": [
    "a = np.random.randint(1, 11, size=(3, 4))\n",
    "print(\"Матриця:\")\n",
    "print(a)\n",
    "\n",
    "print(\"Квадрати значень матриці:\")\n",
    "squares = np.power(a, 2)\n",
    "print(squares)"
   ]
  },
  {
   "cell_type": "markdown",
   "metadata": {},
   "source": [
    "18. Створіть вектор розміром 4, заповніть його випадковими цілими числами в діапазоні від 1 до 50 та знайдіть вектор з квадратними коренями цих чисел."
   ]
  },
  {
   "cell_type": "code",
   "execution_count": null,
   "metadata": {},
   "outputs": [
    {
     "name": "stdout",
     "output_type": "stream",
     "text": [
      "Вихідний вектор [10 20 18 19]\n",
      "Вектор з квадратими коренями: [3.16227766 4.47213595 4.24264069 4.35889894]\n"
     ]
    }
   ],
   "source": [
    "vect = np.random.randint(1, 50, size=4)\n",
    "print(\"Вихідний вектор\", vect)\n",
    "\n",
    "sqrt_vect = np.sqrt(vect)\n",
    "print(\"Вектор з квадратими коренями:\", sqrt_vect)"
   ]
  }
 ],
 "metadata": {
  "kernelspec": {
   "display_name": "Python 3",
   "language": "python",
   "name": "python3"
  },
  "language_info": {
   "codemirror_mode": {
    "name": "ipython",
    "version": 3
   },
   "file_extension": ".py",
   "mimetype": "text/x-python",
   "name": "python",
   "nbconvert_exporter": "python",
   "pygments_lexer": "ipython3",
   "version": "3.11.3"
  },
  "orig_nbformat": 4
 },
 "nbformat": 4,
 "nbformat_minor": 2
}
